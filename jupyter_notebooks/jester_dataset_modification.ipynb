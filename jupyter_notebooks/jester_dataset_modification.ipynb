{
 "cells": [
  {
   "cell_type": "code",
   "execution_count": 5,
   "metadata": {
    "collapsed": true
   },
   "outputs": [],
   "source": [
    "import pandas as pd\n",
    "import numpy as np"
   ]
  },
  {
   "cell_type": "code",
   "execution_count": 2,
   "outputs": [],
   "source": [
    "CLASSES_TO_EXCLUDE=[\n",
    "    \"Sliding Two Fingers Left\",\n",
    "    \"Sliding Two Fingers Right\",\n",
    "    \"Sliding Two Fingers Down\",\n",
    "    \"Sliding Two Fingers Up\",\n",
    "    \"Turning Hand Clockwise\",\n",
    "    \"Turning Hand Counterclockwise\",\n",
    "    \"Zooming In With Full Hand\",\n",
    "    \"Zooming Out With Full Hand\",\n",
    "    \"Zooming In With Two Fingers\",\n",
    "    \"Zooming Out With Two Fingers\"\n",
    "]\n"
   ],
   "metadata": {
    "collapsed": false,
    "pycharm": {
     "name": "#%%\n"
    }
   }
  },
  {
   "cell_type": "code",
   "execution_count": 3,
   "outputs": [],
   "source": [
    "import os\n",
    "ANNOTATION_DIR = \"D:/MachineLearning/Datasets/Jester\"\n",
    "\n",
    "labels_path = os.path.join(ANNOTATION_DIR, \"jester-v1-labels.csv\")\n",
    "new_labels_path = os.path.join(ANNOTATION_DIR, \"jester-v1-labels_17_classes.csv\")\n",
    "\n",
    "val_path = os.path.join(ANNOTATION_DIR, \"jester-v1-validation.csv\")\n",
    "train_path = os.path.join(ANNOTATION_DIR, \"jester-v1-train.csv\")\n",
    "\n",
    "new_train_path = os.path.join(ANNOTATION_DIR, \"jester-v1-train_17_classes.csv\")\n",
    "new_val_path = os.path.join(ANNOTATION_DIR, \"jester-v1-validation_17_classes.csv\")"
   ],
   "metadata": {
    "collapsed": false,
    "pycharm": {
     "name": "#%%\n"
    }
   }
  },
  {
   "cell_type": "markdown",
   "source": [
    "Check if all given exclude classes are valid"
   ],
   "metadata": {
    "collapsed": false
   }
  },
  {
   "cell_type": "code",
   "execution_count": 31,
   "outputs": [],
   "source": [
    "with open(labels_path, \"r\") as lb_f:\n",
    "    labels = [line.rstrip() for line in lb_f]\n",
    "    # check if all class names to exclude are valid\n",
    "    for exclude_class_name in CLASSES_TO_EXCLUDE:\n",
    "        if exclude_class_name not in labels:\n",
    "            raise ValueError(\"Exclude class name {} does not exist\".format(exclude_class_name))"
   ],
   "metadata": {
    "collapsed": false,
    "pycharm": {
     "name": "#%%\n"
    }
   }
  },
  {
   "cell_type": "markdown",
   "source": [
    "Create new annotation files (validation annotation not available)\n"
   ],
   "metadata": {
    "collapsed": false
   }
  },
  {
   "cell_type": "code",
   "execution_count": 5,
   "outputs": [],
   "source": [
    "with open(labels_path, \"r\") as lb_f:\n",
    "    with open(new_labels_path, \"w+\") as new_lb_f:\n",
    "        labels = [line.rstrip() for line in lb_f]\n",
    "        for label in labels:\n",
    "            if label not in CLASSES_TO_EXCLUDE:\n",
    "                new_lb_f.writelines(label + \"\\n\")"
   ],
   "metadata": {
    "collapsed": false,
    "pycharm": {
     "name": "#%%\n"
    }
   }
  },
  {
   "cell_type": "code",
   "execution_count": 37,
   "outputs": [],
   "source": [
    "from tqdm import tqdm\n",
    "\n",
    "def remove_class_annotation(original_path, new_path):\n",
    "    with open(original_path, \"r\") as og_file:\n",
    "        with open(new_path, \"w+\") as new_file:\n",
    "            for line in tqdm(og_file):\n",
    "                splits = line.split(\";\")\n",
    "                if splits[1].rstrip() not in CLASSES_TO_EXCLUDE:\n",
    "                    new_file.writelines(line)"
   ],
   "metadata": {
    "collapsed": false,
    "pycharm": {
     "name": "#%%\n"
    }
   }
  },
  {
   "cell_type": "code",
   "execution_count": 38,
   "outputs": [
    {
     "name": "stderr",
     "output_type": "stream",
     "text": [
      "118562it [00:01, 100745.22it/s]\n"
     ]
    }
   ],
   "source": [
    "remove_class_annotation(train_path, new_train_path)"
   ],
   "metadata": {
    "collapsed": false,
    "pycharm": {
     "name": "#%%\n"
    }
   }
  },
  {
   "cell_type": "code",
   "execution_count": 41,
   "outputs": [
    {
     "name": "stderr",
     "output_type": "stream",
     "text": [
      "14787it [00:00, 103723.53it/s]\n"
     ]
    }
   ],
   "source": [
    "remove_class_annotation(val_path, new_val_path)\n"
   ],
   "metadata": {
    "collapsed": false,
    "pycharm": {
     "name": "#%%\n"
    }
   }
  },
  {
   "cell_type": "markdown",
   "source": [
    "**ZIPing the dataset**  <br />\n",
    "Dataset is split into volumes, each volume containing videos up to a certain index\n",
    "(colab doesn't like a lot of files in a single directory)"
   ],
   "metadata": {
    "collapsed": false,
    "pycharm": {
     "name": "#%% md\n"
    }
   }
  },
  {
   "cell_type": "code",
   "execution_count": 46,
   "outputs": [
    {
     "name": "stdout",
     "output_type": "stream",
     "text": [
      "Done with zipping vol 6 in 536.7640151977539 seconds\n"
     ]
    }
   ],
   "source": [
    "from datasets.jester import VOLUME_SPLITS\n",
    "import zipfile\n",
    "from zipfile import ZipFile\n",
    "from pathlib import Path\n",
    "\n",
    "DATASET_DIR = \"D:/MachineLearning/Datasets/Jester/20bn-jester-v1\"\n",
    "ZIP_DIR = \"D:/MachineLearning/Datasets/Jester/zips\"\n",
    "\n",
    "def store_folder(zip_obj:ZipFile, folder_path):\n",
    "    folder_name = os.path.basename(folder_path)\n",
    "    for file_name in os.listdir(folder_path):\n",
    "        file_path = os.path.join(folder_path, file_name)\n",
    "        relative_path = os.path.join(folder_name, file_name)\n",
    "        zip_obj.write(file_path, relative_path)\n",
    "\n",
    "def zip_volume(video_index_start, video_index_end, volume_index):\n",
    "    \"\"\"\n",
    "    :param video_index_start: inclusive\n",
    "    :param video_index_end: inclusive\n",
    "    \"\"\"\n",
    "    volume_name = \"vol_{}.zip\".format(volume_index)\n",
    "    volume_path = os.path.join(ZIP_DIR, volume_name)\n",
    "\n",
    "    with ZipFile(volume_path, mode=\"x\", compression=zipfile.ZIP_STORED) as zip_obj:\n",
    "        with open(new_train_path, 'r') as train_file:\n",
    "            for line in train_file:\n",
    "                splits = line.split(';')\n",
    "                index = int(splits[0])\n",
    "\n",
    "                if video_index_start <= index <= video_index_end:\n",
    "                    folder_path = os.path.join(DATASET_DIR, str(index))\n",
    "                    store_folder(zip_obj, folder_path)\n",
    "\n",
    "        with open(new_val_path, 'r') as val_file:\n",
    "            for line in val_file:\n",
    "                splits = line.split(';')\n",
    "                index = int(splits[0])\n",
    "\n",
    "                if video_index_start <= index <= video_index_end:\n",
    "                    folder_path = os.path.join(DATASET_DIR, str(index))\n",
    "                    store_folder(zip_obj, folder_path)\n",
    "\n",
    "import time\n",
    "\n",
    "# print(\"Started zipping\")\n",
    "# starting_vid_idx = 1\n",
    "# for volume_index in range(len(VOLUME_SPLITS)):\n",
    "#     ending_vid_idx = VOLUME_SPLITS[volume_index] - 1\n",
    "#     time_start = time.time()\n",
    "#\n",
    "#     zip_volume(starting_vid_idx, ending_vid_idx, volume_index)\n",
    "#\n",
    "#     duration = time.time() - time_start\n",
    "#     print(\"Done with zipping vol {} in {} seconds\".format(volume_index, duration))\n",
    "#     starting_vid_idx = VOLUME_SPLITS[volume_index]\n",
    "\n",
    "starting_vid_idx = VOLUME_SPLITS[-1]\n",
    "ending_vid_idx = len(os.listdir(DATASET_DIR))\n",
    "time_start = time.time()\n",
    "volume_index = len(VOLUME_SPLITS)\n",
    "zip_volume(starting_vid_idx, ending_vid_idx, volume_index)\n",
    "duration = time.time() - time_start\n",
    "print(\"Done with zipping vol {} in {} seconds\".format(volume_index, duration))"
   ],
   "metadata": {
    "collapsed": false,
    "pycharm": {
     "name": "#%%\n"
    }
   }
  },
  {
   "cell_type": "markdown",
   "source": [
    "Create new Ind.txt files"
   ],
   "metadata": {
    "collapsed": false,
    "pycharm": {
     "name": "#%% md\n"
    }
   }
  },
  {
   "cell_type": "code",
   "execution_count": 9,
   "outputs": [],
   "source": [
    "def label_csv_to_label_ind(label_csv_path, class_ind_path):\n",
    "    label_dict = dict()\n",
    "    with open(label_csv_path, \"r\") as  lb_f:\n",
    "        with open(class_ind_path, \"w+\") as class_ind_f:\n",
    "            class_index = 1\n",
    "            labels = [line.rstrip() for line in lb_f]\n",
    "            for label in labels:\n",
    "                new_label = label.replace(\" \", \"_\")\n",
    "                class_ind_f.writelines(\"{} {}\\n\".format(class_index, new_label))\n",
    "                label_dict[label] = class_index\n",
    "                class_index += 1\n",
    "\n",
    "    return label_dict\n",
    "\n",
    "def annotation_csv_to_ind(annotation_csv_path, ind_path, label_dict):\n",
    "    with open(annotation_csv_path, \"r\") as a_f:\n",
    "        with open(ind_path, \"w+\") as i_f:\n",
    "            for line in a_f:\n",
    "                video_ind, class_name = line.split(\";\")\n",
    "                class_name = class_name.rstrip()\n",
    "                class_ind = label_dict[class_name]\n",
    "\n",
    "                i_f.write(\"{} {}\\n\".format(video_ind, class_ind))\n",
    "\n",
    "class_ind_path = os.path.join(ANNOTATION_DIR, \"classInd_17_classes.txt\")\n",
    "trainlist_path = os.path.join(ANNOTATION_DIR, \"trainlist_17_classes.txt\")\n",
    "vallist_path = os.path.join(ANNOTATION_DIR, \"vallist_17_classes.txt\")\n",
    "\n",
    "label_map  = label_csv_to_label_ind(new_labels_path, class_ind_path)\n",
    "annotation_csv_to_ind(new_train_path, trainlist_path, label_map)\n",
    "annotation_csv_to_ind(new_val_path, vallist_path, label_map)"
   ],
   "metadata": {
    "collapsed": false,
    "pycharm": {
     "name": "#%%\n"
    }
   }
  },
  {
   "cell_type": "code",
   "execution_count": 13,
   "outputs": [
    {
     "ename": "ModuleNotFoundError",
     "evalue": "No module named 'utils.jester_json'; 'utils' is not a package",
     "output_type": "error",
     "traceback": [
      "\u001B[1;31m---------------------------------------------------------------------------\u001B[0m",
      "\u001B[1;31mModuleNotFoundError\u001B[0m                       Traceback (most recent call last)",
      "\u001B[1;32m<ipython-input-13-9bc83a569613>\u001B[0m in \u001B[0;36m<module>\u001B[1;34m\u001B[0m\n\u001B[1;32m----> 1\u001B[1;33m \u001B[1;32mfrom\u001B[0m \u001B[0mutils\u001B[0m\u001B[1;33m.\u001B[0m\u001B[0mjester_json\u001B[0m \u001B[1;32mimport\u001B[0m \u001B[0mconvert_jester_csv_to_activitynet_json\u001B[0m\u001B[1;33m\u001B[0m\u001B[1;33m\u001B[0m\u001B[0m\n\u001B[0m\u001B[0;32m      2\u001B[0m \u001B[1;33m\u001B[0m\u001B[0m\n\u001B[0;32m      3\u001B[0m \u001B[0mdest_JSON\u001B[0m \u001B[1;33m=\u001B[0m \u001B[0mos\u001B[0m\u001B[1;33m.\u001B[0m\u001B[0mpath\u001B[0m\u001B[1;33m.\u001B[0m\u001B[0mjoin\u001B[0m\u001B[1;33m(\u001B[0m\u001B[0mANNOTATION_DIR\u001B[0m\u001B[1;33m,\u001B[0m \u001B[1;34m\"jester_17_classes.json\"\u001B[0m\u001B[1;33m)\u001B[0m\u001B[1;33m\u001B[0m\u001B[1;33m\u001B[0m\u001B[0m\n\u001B[0;32m      4\u001B[0m \u001B[0mconvert_jester_csv_to_activitynet_json\u001B[0m\u001B[1;33m(\u001B[0m\u001B[0mclass_ind_path\u001B[0m\u001B[1;33m,\u001B[0m \u001B[0mtrainlist_path\u001B[0m\u001B[1;33m,\u001B[0m \u001B[0mvallist_path\u001B[0m\u001B[1;33m,\u001B[0m \u001B[0mdest_JSON\u001B[0m\u001B[1;33m)\u001B[0m\u001B[1;33m\u001B[0m\u001B[1;33m\u001B[0m\u001B[0m\n",
      "\u001B[1;31mModuleNotFoundError\u001B[0m: No module named 'utils.jester_json'; 'utils' is not a package"
     ]
    }
   ],
   "source": [
    "from utils.jester_json import convert_jester_csv_to_activitynet_json\n",
    "\n",
    "dest_JSON = os.path.join(ANNOTATION_DIR, \"jester_17_classes.json\")\n",
    "convert_jester_csv_to_activitynet_json(class_ind_path, trainlist_path, vallist_path, dest_JSON)"
   ],
   "metadata": {
    "collapsed": false,
    "pycharm": {
     "name": "#%%\n"
    }
   }
  }
 ],
 "metadata": {
  "kernelspec": {
   "display_name": "Python 3",
   "language": "python",
   "name": "python3"
  },
  "language_info": {
   "codemirror_mode": {
    "name": "ipython",
    "version": 2
   },
   "file_extension": ".py",
   "mimetype": "text/x-python",
   "name": "python",
   "nbconvert_exporter": "python",
   "pygments_lexer": "ipython2",
   "version": "2.7.6"
  }
 },
 "nbformat": 4,
 "nbformat_minor": 0
}